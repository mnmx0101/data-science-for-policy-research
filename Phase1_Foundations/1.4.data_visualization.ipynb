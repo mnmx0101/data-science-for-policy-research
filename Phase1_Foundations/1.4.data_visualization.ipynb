{
 "cells": [
  {
   "cell_type": "code",
   "execution_count": null,
   "id": "73ab1173",
   "metadata": {},
   "outputs": [],
   "source": [
    "# Data Visualization: Static (Matplotlib, Seaborn) & Interactive (Plotly)\n",
    "\n",
    "import pandas as pd\n",
    "import matplotlib.pyplot as plt\n",
    "import seaborn as sns\n",
    "import plotly.express as px\n",
    "\n",
    "# Example dataset: Titanic survival dataset from seaborn\n",
    "titanic = sns.load_dataset(\"titanic\")\n",
    "\n",
    "# ---- Static Visualization: Matplotlib ----\n",
    "plt.figure(figsize=(6,4))\n",
    "plt.hist(titanic['age'].dropna(), bins=30, color='skyblue', edgecolor='black')\n",
    "plt.title(\"Distribution of Passenger Ages\")\n",
    "plt.xlabel(\"Age\")\n",
    "plt.ylabel(\"Count\")\n",
    "plt.show()\n",
    "\n",
    "# ---- Static Visualization: Seaborn ----\n",
    "plt.figure(figsize=(6,4))\n",
    "sns.barplot(x=\"class\", y=\"fare\", data=titanic, estimator=lambda x: sum(x)/len(x))\n",
    "plt.title(\"Average Fare by Passenger Class\")\n",
    "plt.show()\n",
    "\n",
    "# ---- Interactive Visualization: Plotly ----\n",
    "fig = px.scatter(\n",
    "    titanic, \n",
    "    x=\"age\", \n",
    "    y=\"fare\", \n",
    "    color=\"class\",\n",
    "    hover_data=[\"sex\", \"embarked\"]\n",
    ")\n",
    "fig.update_layout(title=\"Age vs Fare by Class (Interactive)\")\n",
    "fig.show()\n",
    "\n",
    "# ---- Mission Task ----\n",
    "# Try creating:\n",
    "# 1. A seaborn boxplot of \"fare\" across \"class\"\n",
    "# 2. An interactive bar chart of survival counts (using plotly)\n"
   ]
  }
 ],
 "metadata": {
  "language_info": {
   "name": "python"
  }
 },
 "nbformat": 4,
 "nbformat_minor": 5
}
